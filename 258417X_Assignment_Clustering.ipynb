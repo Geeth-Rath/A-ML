{
  "nbformat": 4,
  "nbformat_minor": 0,
  "metadata": {
    "colab": {
      "provenance": [],
      "authorship_tag": "ABX9TyP7Mdaim0PDoH7SbOTCUoOR",
      "include_colab_link": true
    },
    "kernelspec": {
      "name": "python3",
      "display_name": "Python 3"
    },
    "language_info": {
      "name": "python"
    }
  },
  "cells": [
    {
      "cell_type": "markdown",
      "metadata": {
        "id": "view-in-github",
        "colab_type": "text"
      },
      "source": [
        "<a href=\"https://colab.research.google.com/github/Geeth-Rath/A-ML/blob/main/258417X_Assignment_Clustering.ipynb\" target=\"_parent\"><img src=\"https://colab.research.google.com/assets/colab-badge.svg\" alt=\"Open In Colab\"/></a>"
      ]
    },
    {
      "cell_type": "code",
      "source": [
        "!pip install scikit-learn-extra"
      ],
      "metadata": {
        "colab": {
          "base_uri": "https://localhost:8080/"
        },
        "id": "kXEZ_9h0hIf2",
        "outputId": "13dd5feb-42b7-4566-aed8-dd092f348933"
      },
      "execution_count": 3,
      "outputs": [
        {
          "output_type": "stream",
          "name": "stdout",
          "text": [
            "Collecting scikit-learn-extra\n",
            "  Downloading scikit_learn_extra-0.3.0-cp311-cp311-manylinux_2_17_x86_64.manylinux2014_x86_64.whl.metadata (3.6 kB)\n",
            "Requirement already satisfied: numpy>=1.13.3 in /usr/local/lib/python3.11/dist-packages (from scikit-learn-extra) (1.26.4)\n",
            "Requirement already satisfied: scipy>=0.19.1 in /usr/local/lib/python3.11/dist-packages (from scikit-learn-extra) (1.13.1)\n",
            "Requirement already satisfied: scikit-learn>=0.23.0 in /usr/local/lib/python3.11/dist-packages (from scikit-learn-extra) (1.6.1)\n",
            "Requirement already satisfied: joblib>=1.2.0 in /usr/local/lib/python3.11/dist-packages (from scikit-learn>=0.23.0->scikit-learn-extra) (1.4.2)\n",
            "Requirement already satisfied: threadpoolctl>=3.1.0 in /usr/local/lib/python3.11/dist-packages (from scikit-learn>=0.23.0->scikit-learn-extra) (3.5.0)\n",
            "Downloading scikit_learn_extra-0.3.0-cp311-cp311-manylinux_2_17_x86_64.manylinux2014_x86_64.whl (2.1 MB)\n",
            "\u001b[2K   \u001b[90m━━━━━━━━━━━━━━━━━━━━━━━━━━━━━━━━━━━━━━━━\u001b[0m \u001b[32m2.1/2.1 MB\u001b[0m \u001b[31m19.4 MB/s\u001b[0m eta \u001b[36m0:00:00\u001b[0m\n",
            "\u001b[?25hInstalling collected packages: scikit-learn-extra\n",
            "Successfully installed scikit-learn-extra-0.3.0\n"
          ]
        }
      ]
    },
    {
      "cell_type": "code",
      "execution_count": 4,
      "metadata": {
        "id": "aALzqlXifxqJ"
      },
      "outputs": [],
      "source": [
        "import numpy as np\n",
        "import pandas as pd\n",
        "import matplotlib.pyplot as plt\n",
        "from sklearn.cluster import KMeans\n",
        "from sklearn.metrics import silhouette_score\n",
        "from scipy.stats import mode\n",
        "from sklearn.preprocessing import StandardScaler\n",
        "from sklearn_extra.cluster import KMedoids"
      ]
    },
    {
      "cell_type": "code",
      "source": [
        "file_path = \"/content/sample_data/seeds_dataset.txt\"\n",
        "columns = [\"Area\", \"Perimeter\", \"Compactness\", \"Length of Kernel\", \"Width of Kernel\", \"Asymmetry Coefficient\", \"Kernel Groove Length\", \"Class\"]\n",
        "data = pd.read_csv(file_path, sep=\"\\s+\",  names=columns, header=None,engine=\"python\")"
      ],
      "metadata": {
        "id": "hZfcMN9ChAlM"
      },
      "execution_count": 7,
      "outputs": []
    },
    {
      "cell_type": "code",
      "source": [
        "print(data.head())"
      ],
      "metadata": {
        "colab": {
          "base_uri": "https://localhost:8080/"
        },
        "id": "-NkTtW0shAoD",
        "outputId": "6eb3bc21-fb30-4fba-c802-3cdd13a13a29"
      },
      "execution_count": 8,
      "outputs": [
        {
          "output_type": "stream",
          "name": "stdout",
          "text": [
            "    Area  Perimeter  Compactness  Length of Kernel  Width of Kernel  \\\n",
            "0  15.26      14.84       0.8710             5.763            3.312   \n",
            "1  14.88      14.57       0.8811             5.554            3.333   \n",
            "2  14.29      14.09       0.9050             5.291            3.337   \n",
            "3  13.84      13.94       0.8955             5.324            3.379   \n",
            "4  16.14      14.99       0.9034             5.658            3.562   \n",
            "\n",
            "   Asymmetry Coefficient  Kernel Groove Length  Class  \n",
            "0                  2.221                 5.220      1  \n",
            "1                  1.018                 4.956      1  \n",
            "2                  2.699                 4.825      1  \n",
            "3                  2.259                 4.805      1  \n",
            "4                  1.355                 5.175      1  \n"
          ]
        }
      ]
    },
    {
      "cell_type": "code",
      "source": [
        "data.dropna(inplace=True)"
      ],
      "metadata": {
        "id": "giEoMEAOhAqq"
      },
      "execution_count": 9,
      "outputs": []
    },
    {
      "cell_type": "code",
      "source": [
        "data.drop_duplicates(inplace=True)"
      ],
      "metadata": {
        "id": "ZiMc3g8vhAtL"
      },
      "execution_count": 10,
      "outputs": []
    },
    {
      "cell_type": "code",
      "source": [
        "X = data.iloc[:, :-1]  # First 7 columns are features\n",
        "y_true = data.iloc[:, -1]  # Last column is the true labels"
      ],
      "metadata": {
        "id": "RB3cXvS3hAwA"
      },
      "execution_count": 11,
      "outputs": []
    },
    {
      "cell_type": "code",
      "source": [
        "scaler = StandardScaler()\n",
        "X_scaled = scaler.fit_transform(X)"
      ],
      "metadata": {
        "id": "QrGXMZ99hAyB"
      },
      "execution_count": 12,
      "outputs": []
    },
    {
      "cell_type": "code",
      "source": [],
      "metadata": {
        "id": "-2DUe5SUlor2"
      },
      "execution_count": null,
      "outputs": []
    },
    {
      "cell_type": "markdown",
      "source": [
        "Q1: Use the Elbow Method to determine the optimal number of clusters"
      ],
      "metadata": {
        "id": "RIqUSfN7lth_"
      }
    },
    {
      "cell_type": "code",
      "source": [
        "wcss = []\n",
        "k_values = range(1, 11)\n",
        "for k in k_values:\n",
        "    kmeans = KMeans(n_clusters=k, random_state=42, n_init=10)\n",
        "    kmeans.fit(X_scaled)\n",
        "    wcss.append(kmeans.inertia_)\n",
        "\n",
        "plt.figure(figsize=(8, 5))\n",
        "plt.plot(k_values, wcss, marker='o', linestyle='--')\n",
        "plt.xlabel('Number of Clusters (k)')\n",
        "plt.ylabel('Within-Cluster Sum of Squares (WCSS)')\n",
        "plt.title('Elbow Method for Optimal k')\n",
        "plt.show()"
      ],
      "metadata": {
        "colab": {
          "base_uri": "https://localhost:8080/",
          "height": 487
        },
        "id": "fBnGHeCClozm",
        "outputId": "4b5dd49d-4942-48fc-a7f8-5d6297719cac"
      },
      "execution_count": 14,
      "outputs": [
        {
          "output_type": "display_data",
          "data": {
            "text/plain": [
              "<Figure size 800x500 with 1 Axes>"
            ],
            "image/png": "[encoded data removed]"
          },
          "metadata": {}
        }
      ]
    },
    {
      "cell_type": "code",
      "source": [
        "# Function to perform clustering and evaluate\n",
        "def evaluate_clustering(X, y_true, model):\n",
        "    labels = model.fit_predict(X)\n",
        "    silhouette = silhouette_score(X, labels)\n",
        "    purity = np.sum([mode(y_true[labels == i])[1] for i in np.unique(labels)]) / len(y_true)\n",
        "    return labels, silhouette, purity"
      ],
      "metadata": {
        "id": "nP9w8NE1lo22"
      },
      "execution_count": 15,
      "outputs": []
    },
    {
      "cell_type": "markdown",
      "source": [
        "Q2: Perform K-Means clustering with k=3 and evaluate"
      ],
      "metadata": {
        "id": "LapIhJLLmEv9"
      }
    },
    {
      "cell_type": "code",
      "source": [
        "kmeans = KMeans(n_clusters=3, random_state=42, n_init=10)\n",
        "kmeans_labels, silhouette_kmeans, purity_kmeans = evaluate_clustering(X_scaled, y_true.to_numpy(), kmeans)\n",
        "print(f'K-Means Silhouette Score: {silhouette_kmeans:.4f}')\n",
        "print(f'K-Means Purity Score: {purity_kmeans:.4f}')"
      ],
      "metadata": {
        "colab": {
          "base_uri": "https://localhost:8080/"
        },
        "id": "P1ZjsP28lo5B",
        "outputId": "975496d7-a3f2-4350-835b-50d49a2e9b64"
      },
      "execution_count": 16,
      "outputs": [
        {
          "output_type": "stream",
          "name": "stdout",
          "text": [
            "K-Means Silhouette Score: 0.4007\n",
            "K-Means Purity Score: 0.9190\n"
          ]
        }
      ]
    },
    {
      "cell_type": "markdown",
      "source": [
        "Q3: Perform K-Medoids clustering with k=3 and evaluate"
      ],
      "metadata": {
        "id": "VPJRx_kbmJlF"
      }
    },
    {
      "cell_type": "code",
      "source": [
        "kmedoids = KMedoids(n_clusters=3, random_state=42)\n",
        "kmedoids_labels, silhouette_kmedoids, purity_kmedoids = evaluate_clustering(X_scaled, y_true.to_numpy(), kmedoids)"
      ],
      "metadata": {
        "id": "8cIC2Mvjlo8G"
      },
      "execution_count": 17,
      "outputs": []
    },
    {
      "cell_type": "code",
      "source": [
        "print(f'K-Medoids Silhouette Score: {silhouette_kmedoids:.4f}')\n",
        "print(f'K-Medoids Purity Score: {purity_kmedoids:.4f}')"
      ],
      "metadata": {
        "colab": {
          "base_uri": "https://localhost:8080/"
        },
        "id": "MDLVRPismNFl",
        "outputId": "38f60cff-001d-4342-fbd1-28155d6f3d86"
      },
      "execution_count": 18,
      "outputs": [
        {
          "output_type": "stream",
          "name": "stdout",
          "text": [
            "K-Medoids Silhouette Score: 0.3992\n",
            "K-Medoids Purity Score: 0.8952\n"
          ]
        }
      ]
    },
    {
      "cell_type": "markdown",
      "source": [
        "Q4: Compare clustering results"
      ],
      "metadata": {
        "id": "dVbDbBxEmXeO"
      }
    },
    {
      "cell_type": "code",
      "source": [
        "def compare_clustering(silhouette_kmeans, purity_kmeans, silhouette_kmedoids, purity_kmedoids):\n",
        "    print(\"\\nComparison of Clustering Algorithms\")\n",
        "    print(\"-----------------------------------\")\n",
        "    print(f\"K-Means Silhouette Score: {silhouette_kmeans:.4f}\")\n",
        "    print(f\"K-Means Purity Score: {purity_kmeans:.4f}\")\n",
        "    print(f\"K-Medoids Silhouette Score: {silhouette_kmedoids:.4f}\")\n",
        "    print(f\"K-Medoids Purity Score: {purity_kmedoids:.4f}\")\n",
        "\n",
        "    # Determine better clustering method\n",
        "    if silhouette_kmeans > silhouette_kmedoids and purity_kmeans > purity_kmedoids:\n",
        "        print(\"K-Means outperforms K-Medoids on both Silhouette Score and Purity.\")\n",
        "    elif silhouette_kmedoids > silhouette_kmeans and purity_kmedoids > purity_kmeans:\n",
        "        print(\"K-Medoids surpasses K-Means in both Silhouette Score and Purity.\")\n",
        "    elif silhouette_kmeans > silhouette_kmedoids and purity_kmedoids > purity_kmeans:\n",
        "        print(\"While Silhouette Score favors K-Means, Purity suggests K-Medoids performs better.\")\n",
        "        print(\"K-Means tends to create more compact clusters, whereas K-Medoids shows better alignment with true classes.\")\n",
        "    elif silhouette_kmedoids > silhouette_kmeans and purity_kmeans > purity_kmedoids:\n",
        "        print(\"Silhouette Score suggests K-Medoids is the better choice, but Purity indicates K-Means performs better.\")\n",
        "        print(\"K-Medoids forms well-separated clusters, but K-Means aligns more closely with the actual classes.\")\n",
        "    else:\n",
        "        print(\"The results from both methods are fairly similar. It may be worth considering additional metrics or visualizations.\")\n"
      ],
      "metadata": {
        "id": "Yi8YwlYUmWsz"
      },
      "execution_count": 21,
      "outputs": []
    },
    {
      "cell_type": "code",
      "source": [
        "compare_clustering(silhouette_kmeans, purity_kmeans, silhouette_kmedoids, purity_kmedoids)"
      ],
      "metadata": {
        "colab": {
          "base_uri": "https://localhost:8080/"
        },
        "id": "Th1axJLRmgK1",
        "outputId": "072ff9fb-b885-4868-a045-aa052085034b"
      },
      "execution_count": 22,
      "outputs": [
        {
          "output_type": "stream",
          "name": "stdout",
          "text": [
            "\n",
            "Comparison of Clustering Algorithms\n",
            "-----------------------------------\n",
            "K-Means Silhouette Score: 0.4007\n",
            "K-Means Purity Score: 0.9190\n",
            "K-Medoids Silhouette Score: 0.3992\n",
            "K-Medoids Purity Score: 0.8952\n",
            "K-Means outperforms K-Medoids on both Silhouette Score and Purity.\n"
          ]
        }
      ]
    },
    {
      "cell_type": "code",
      "source": [],
      "metadata": {
        "id": "bSxqEbwDmiTt"
      },
      "execution_count": null,
      "outputs": []
    }
  ]
}