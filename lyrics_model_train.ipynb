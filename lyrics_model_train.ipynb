{
  "cells": [
    {
      "cell_type": "markdown",
      "metadata": {
        "id": "view-in-github",
        "colab_type": "text"
      },
      "source": [
        "<a href=\"https://colab.research.google.com/github/Geeth-Rath/A-ML/blob/main/lyrics_model_train.ipynb\" target=\"_parent\"><img src=\"https://colab.research.google.com/assets/colab-badge.svg\" alt=\"Open In Colab\"/></a>"
      ]
    },
    {
      "cell_type": "markdown",
      "source": [
        "## Train with merged dataset"
      ],
      "metadata": {
        "id": "88N9Bzxw9fXL"
      }
    },
    {
      "cell_type": "code",
      "source": [
        "from pyspark.sql import SparkSession\n",
        "from pyspark.sql.functions import col\n",
        "from pyspark.ml import Pipeline\n",
        "from pyspark.ml.feature import (\n",
        "    RegexTokenizer, StopWordsRemover, HashingTF, StringIndexer\n",
        ")\n",
        "from pyspark.ml.classification import NaiveBayes\n",
        "from pyspark.ml.evaluation import MulticlassClassificationEvaluator\n",
        "\n",
        "# 1. Start Spark session\n",
        "spark = SparkSession.builder \\\n",
        "    .appName(\"LyricsGenreClassifier_NaiveBayes\") \\\n",
        "    .getOrCreate()\n",
        "\n",
        "# 2. Load dataset\n",
        "data = spark.read.csv(\"Merged dataset.csv\", header=True, inferSchema=True)\n",
        "\n",
        "# 3. Select only necessary columns\n",
        "columns_to_keep = ['artist_name', 'track_name', 'release_date', 'genre', 'lyrics']\n",
        "data = data.select(*columns_to_keep)\n",
        "\n",
        "# 4. Drop rows with missing values\n",
        "data = data.dropna(subset=[\"lyrics\", \"genre\", \"release_date\"])\n",
        "\n",
        "# 5. Balance dataset: 2450 per genre\n",
        "genres = data.select(\"genre\").distinct().rdd.flatMap(lambda x: x).collect()\n",
        "balanced_data = None\n",
        "for g in genres:\n",
        "    genre_df = data.filter(col(\"genre\") == g).limit(1000)\n",
        "    balanced_data = genre_df if balanced_data is None else balanced_data.union(genre_df)\n",
        "\n",
        "# 6. Label encoding\n",
        "label_indexer = StringIndexer(inputCol=\"genre\", outputCol=\"label\")\n",
        "\n",
        "# 7. Text features (no IDF)\n",
        "tokenizer = RegexTokenizer(inputCol=\"lyrics\", outputCol=\"tokens\", pattern=\"\\\\W\")\n",
        "remover = StopWordsRemover(inputCol=\"tokens\", outputCol=\"filtered\")\n",
        "tf = HashingTF(inputCol=\"filtered\", outputCol=\"features\", numFeatures=10000)\n",
        "\n",
        "# 8. Classifier\n",
        "classifier = NaiveBayes(featuresCol=\"features\", labelCol=\"label\", modelType=\"multinomial\")\n",
        "\n",
        "# 9. Build pipeline\n",
        "pipeline = Pipeline(stages=[label_indexer, tokenizer, remover, tf, classifier])\n",
        "\n",
        "# 10. Train/test split\n",
        "train_data, test_data = balanced_data.randomSplit([0.8, 0.2], seed=42)\n",
        "\n",
        "# 11. Train model\n",
        "model = pipeline.fit(train_data)\n",
        "\n",
        "# 12. Evaluate model\n",
        "predictions = model.transform(test_data)\n",
        "evaluator = MulticlassClassificationEvaluator(\n",
        "    metricName=\"accuracy\",\n",
        "    labelCol=\"label\",\n",
        "    predictionCol=\"prediction\"\n",
        ")\n",
        "accuracy = evaluator.evaluate(predictions)\n",
        "\n",
        "print(f\"Test Accuracy (Naive Bayes): {accuracy:.2f}\")"
      ],
      "metadata": {
        "colab": {
          "base_uri": "https://localhost:8080/"
        },
        "id": "SlfKK5y49ioh",
        "outputId": "122aedd9-9b64-4dc7-88cd-4024aee1ee85"
      },
      "execution_count": 7,
      "outputs": [
        {
          "output_type": "stream",
          "name": "stdout",
          "text": [
            "Test Accuracy (Naive Bayes): 0.72\n"
          ]
        }
      ]
    },
    {
      "cell_type": "code",
      "source": [
        "model.save(\"/content/drive/MyDrive/saved_models/lyrics_genre_classifier_with merge_dataset\")"
      ],
      "metadata": {
        "id": "MSfFW3ee-Ipb"
      },
      "execution_count": 67,
      "outputs": []
    },
    {
      "cell_type": "code",
      "source": [
        "import shutil\n",
        "\n",
        "model_path = \"/content/drive/MyDrive/saved_models/lyrics_genre_classifier_with merge_dataset\"\n",
        "zip_path = \"lyrics_genre_model_merge.zip\"\n",
        "\n",
        "# Zip the model folder\n",
        "shutil.make_archive(zip_path.replace(\".zip\", \"\"), 'zip', model_path)\n",
        "\n"
      ],
      "metadata": {
        "colab": {
          "base_uri": "https://localhost:8080/",
          "height": 35
        },
        "id": "x3D_9J7a-lYb",
        "outputId": "6df18a44-3669-40ae-d938-6941ae205a0d"
      },
      "execution_count": 68,
      "outputs": [
        {
          "output_type": "execute_result",
          "data": {
            "text/plain": [
              "'/content/lyrics_genre_model_merge.zip'"
            ],
            "application/vnd.google.colaboratory.intrinsic+json": {
              "type": "string"
            }
          },
          "metadata": {},
          "execution_count": 68
        }
      ]
    },
    {
      "cell_type": "code",
      "source": [],
      "metadata": {
        "id": "r5SOtru5Bwf0"
      },
      "execution_count": null,
      "outputs": []
    }
  ],
  "metadata": {
    "accelerator": "GPU",
    "colab": {
      "gpuType": "T4",
      "provenance": [],
      "authorship_tag": "ABX9TyMSsRdpAqicWQOI4MmdsZGx",
      "include_colab_link": true
    },
    "kernelspec": {
      "display_name": "Python 3",
      "name": "python3"
    },
    "language_info": {
      "name": "python"
    }
  },
  "nbformat": 4,
  "nbformat_minor": 0
}