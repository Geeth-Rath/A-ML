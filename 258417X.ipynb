{
  "nbformat": 4,
  "nbformat_minor": 0,
  "metadata": {
    "colab": {
      "provenance": [],
      "include_colab_link": true
    },
    "kernelspec": {
      "name": "python3",
      "display_name": "Python 3"
    },
    "language_info": {
      "name": "python"
    }
  },
  "cells": [
    {
      "cell_type": "markdown",
      "metadata": {
        "id": "view-in-github",
        "colab_type": "text"
      },
      "source": [
        "<a href=\"https://colab.research.google.com/github/Geeth-Rath/A-ML/blob/main/258417X.ipynb\" target=\"_parent\"><img src=\"https://colab.research.google.com/assets/colab-badge.svg\" alt=\"Open In Colab\"/></a>"
      ]
    },
    {
      "cell_type": "code",
      "execution_count": null,
      "metadata": {
        "id": "5tYrCAqKRcXH"
      },
      "outputs": [],
      "source": [
        "import pandas as pd"
      ]
    },
    {
      "cell_type": "code",
      "source": [
        "df = pd.read_csv('/content/CO2_data.csv')"
      ],
      "metadata": {
        "id": "4KnFlHd2R7ce"
      },
      "execution_count": null,
      "outputs": []
    },
    {
      "cell_type": "code",
      "source": [
        "df['smoothed'] = df['average'].ewm(span=12, adjust=False).mean()"
      ],
      "metadata": {
        "id": "T2FfGZmnSvsa"
      },
      "execution_count": null,
      "outputs": []
    },
    {
      "cell_type": "code",
      "source": [
        "print(df.head(10))"
      ],
      "metadata": {
        "colab": {
          "base_uri": "https://localhost:8080/"
        },
        "id": "wLL0HkOoS0wn",
        "outputId": "0ec91150-044f-4d1e-88d6-8e6b35cc6528"
      },
      "execution_count": null,
      "outputs": [
        {
          "output_type": "stream",
          "name": "stdout",
          "text": [
            "   Year   Month  average    smoothed\n",
            "0   1958      3   315.71  315.710000\n",
            "1   1958      4   317.45  315.977692\n",
            "2   1958      5   317.51  316.213432\n",
            "3   1958      6   317.27  316.375981\n",
            "4   1958      7   315.87  316.298138\n",
            "5   1958      8   314.93  316.087655\n",
            "6   1958      9   313.21  315.644939\n",
            "7   1958     10   312.42  315.148794\n",
            "8   1958     11   313.33  314.868980\n",
            "9   1958     12   314.67  314.838368\n"
          ]
        }
      ]
    }
  ]
}